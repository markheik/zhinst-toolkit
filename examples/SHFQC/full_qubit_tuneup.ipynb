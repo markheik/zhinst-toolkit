{
 "cells": [
  {
   "cell_type": "code",
   "execution_count": null,
   "metadata": {},
   "outputs": [],
   "source": [
    "import numpy as np\n",
    "\n",
    "from helper import * \n",
    "from IPython.display import clear_output\n",
    "import matplotlib.pyplot as plt\n",
    "import time\n",
    "from scipy.linalg import expm\n",
    "import random\n",
    "import pickle\n",
    "\n",
    "from zhinst.deviceutils.shfqa import SHFQA_SAMPLING_FREQUENCY\n",
    "from zhinst.toolkit import SHFQAChannelMode, AveragingMode\n",
    "\n",
    "\n",
    "interactive = 0\n",
    "\n",
    "if interactive ==1: \n",
    "    %matplotlib widget\n",
    "    figsize=(12,5)\n",
    "    font_large=15\n",
    "    font_medium=10\n",
    "else:\n",
    "    %matplotlib inline\n",
    "    figsize=(24,10)\n",
    "    font_large=30\n",
    "    font_medium=20"
   ]
  },
  {
   "cell_type": "markdown",
   "metadata": {},
   "source": [
    "# Setup\n",
    "## Connect to device"
   ]
  },
  {
   "cell_type": "code",
   "execution_count": null,
   "metadata": {},
   "outputs": [],
   "source": [
    "from zhinst.toolkit import Session\n",
    "\n",
    "session = Session(\"localhost\")\n",
    "device = session.connect_device(\"DEV12073\")"
   ]
  },
  {
   "cell_type": "markdown",
   "metadata": {},
   "source": [
    "## Parameter definitions"
   ]
  },
  {
   "cell_type": "code",
   "execution_count": null,
   "metadata": {},
   "outputs": [],
   "source": [
    "number_of_qubits = 4\n",
    "\n",
    "# Setup parameters\n",
    "## Readout Channel\n",
    "qachannel_number = 0\n",
    "qachannel_center_frequency = 7.1e9\n",
    "qachannel_power_in = -50\n",
    "qachannel_power_out = -30\n",
    "max_amplitude_readout = 2.5 / number_of_qubits * 0.98\n",
    "\n",
    "## Control Channels\n",
    "sgchannel_number = [0, 1, 2, 3, 4]\n",
    "sgchannel_center_frequency = [4.7e9, 4.7e9, 3.2e9, 3.2e9, 3e9]\n",
    "sgchannel_power_out = [\n",
    "    -25,\n",
    "    -25,\n",
    "    -25,\n",
    "    -25,\n",
    "    -25,\n",
    "]\n",
    "sgchannel_trigger_input = 0\n",
    "\n",
    "## Qubit Parameters\n",
    "qubit_params = {\n",
    "    \"readout_pulse_duration\": 2e-6,\n",
    "    \"propagation_delay\": 0,\n",
    "    \"qubit_readout_frequencies\": [0] * number_of_qubits,\n",
    "    \"qubit_readout_widths\": [0] * number_of_qubits,\n",
    "    \"qubit_readout_amplitudes\": [0] * number_of_qubits,\n",
    "    \"max_drive_strength\": [0] * number_of_qubits,\n",
    "    \"qubit_T1_time\": [0] * number_of_qubits,\n",
    "    \"qubit_T2_time\": [0] * number_of_qubits,\n",
    "    \"qubit_single_gate_time\": [0] * number_of_qubits,\n",
    "    \"qubit_drive_frequency\": [0] * number_of_qubits,\n",
    "    \"qubit_pi_amplitude\": [0] * number_of_qubits,\n",
    "    \"qubit_pi/2_amplitude\": [0] * number_of_qubits,\n",
    "    \"qubit_readout_rotation\": [0] * number_of_qubits,\n",
    "    \"qubit_qscale\": [-1] * number_of_qubits,\n",
    "}\n",
    "\n",
    "configure_device(\n",
    "    device,\n",
    "    number_of_qubits,\n",
    "    qachannel_center_frequency,\n",
    "    qachannel_power_in,\n",
    "    qachannel_power_out,\n",
    "    sgchannel_number,\n",
    "    sgchannel_center_frequency,\n",
    "    sgchannel_power_out,\n",
    "    sgchannel_trigger_input,\n",
    ")\n"
   ]
  },
  {
   "cell_type": "markdown",
   "metadata": {},
   "source": [
    "# Resonator spectroscopy - CW"
   ]
  },
  {
   "cell_type": "code",
   "execution_count": null,
   "metadata": {},
   "outputs": [],
   "source": [
    "sweeper = session.modules.shfqa_sweeper\n",
    "sweeper.device(device)\n",
    "\n",
    "sweeper.rf.channel(qachannel_number)\n",
    "sweeper.rf.input_range(qachannel_power_in)\n",
    "sweeper.rf.output_range(qachannel_power_out)\n",
    "sweeper.rf.center_freq(qachannel_center_frequency)\n",
    "\n",
    "sweeper.sweep.start_freq(-700e6)\n",
    "sweeper.sweep.stop_freq(700e6)\n",
    "sweeper.sweep.num_points(1001)\n",
    "sweeper.sweep.mapping(\"linear\")\n",
    "sweeper.sweep.oscillator_gain(max_amplitude_readout)\n",
    "sweeper.sweep.mode(True)\n",
    "\n",
    "sweeper.average.integration_time(10000e-6) \n",
    "sweeper.average.num_averages(1)\n",
    "sweeper.average.mode(\"cyclic\")\n",
    "\n",
    "enable_qa_channel(device,1)\n",
    "wide_resonator_spectrum = sweeper.run()\n",
    "enable_qa_channel(device,0)"
   ]
  },
  {
   "cell_type": "code",
   "execution_count": null,
   "metadata": {},
   "outputs": [],
   "source": [
    "plot_spectroscopy(\n",
    "    sweeper,\n",
    "    wide_resonator_spectrum,\n",
    "    fontsize=font_large,\n",
    "    figsize=figsize,\n",
    "    slope=0.54,\n",
    "    saveloc=\"PSIMeasurements/largespec.png\",\n",
    ")\n",
    "\n",
    "with open(\"PSIMeasurements/largespec.pkl\", \"wb\") as f:\n",
    "    pickle.dump(wide_resonator_spectrum, f)"
   ]
  },
  {
   "cell_type": "markdown",
   "metadata": {},
   "source": [
    "# Resonator spectroscopy CW vs. Power"
   ]
  },
  {
   "cell_type": "code",
   "execution_count": null,
   "metadata": {},
   "outputs": [],
   "source": [
    "qubit_params['qubit_readout_frequencies']=[125e6,402e6,-570e6,-157.5e6,-352e6]\n",
    "qubit_params['qubit_readout_widths']=[20e6,20e6,20e6,20e6,20e6]\n",
    "number_amplitude_values = 10;\n",
    "average_factor=0.00000001;\n",
    "resonator_spectrum_data={'qubits':[ [] for _ in range(number_of_qubits) ]}\n",
    "relative_amplitude_values=np.linspace(max_amplitude_readout/number_amplitude_values,max_amplitude_readout,number_amplitude_values)"
   ]
  },
  {
   "cell_type": "code",
   "execution_count": null,
   "metadata": {},
   "outputs": [],
   "source": [
    "enable_qa_channel(device,1)\n",
    "\n",
    "for qubit in range(number_of_qubits):\n",
    "    print('qubit:',qubit+1)\n",
    "    sweeper.sweep.start_freq(qubit_params['qubit_readout_frequencies'][qubit]-qubit_params['qubit_readout_widths'][qubit])\n",
    "    sweeper.sweep.stop_freq(qubit_params['qubit_readout_frequencies'][qubit]+qubit_params['qubit_readout_widths'][qubit])\n",
    "    sweeper.sweep.num_points(101)\n",
    "        \n",
    "    for amplitude in relative_amplitude_values:\n",
    "        sweeper.sweep.oscillator_gain(amplitude)\n",
    "        sweeper.average.num_averages(int(np.ceil(average_factor*1/amplitude**2)))\n",
    "        resonator_spectrum_data['qubits'][qubit].append(sweeper.run())\n",
    "        clear_output(wait=True) # WHY?\n",
    "        \n",
    "enable_qa_channel(device,0)"
   ]
  },
  {
   "cell_type": "code",
   "execution_count": null,
   "metadata": {},
   "outputs": [],
   "source": [
    "plot_spectroscopy_multiQubit(\n",
    "    sweeper.sweep.num_points(),\n",
    "    number_of_qubits,\n",
    "    resonator_spectrum_data,\n",
    "    relative_amplitude_values,\n",
    "    font_large,\n",
    "    font_medium,\n",
    "    figsize,\n",
    "    slope=0.54,\n",
    "    saveloc=\"PSIMeasurements/indvspec\",\n",
    ")\n",
    "\n",
    "\n",
    "with open(\"PSIMeasurements/indvspec.pkl\", \"wb\") as f:\n",
    "    pickle.dump(resonator_spectrum_data, f)"
   ]
  },
  {
   "cell_type": "markdown",
   "metadata": {},
   "source": [
    "# Determine propagation delay"
   ]
  },
  {
   "cell_type": "code",
   "execution_count": null,
   "metadata": {},
   "outputs": [],
   "source": [
    "qubit_params['qubit_readout_frequencies']=[407e6,130e6,-570e6,-157.5e6,-352e6]\n",
    "qubit_params['qubit_readout_widths']=[5e6,5e6,5e6,5e6,5e6]\n",
    "qubit_params['qubit_readout_amplitudes']=[max_amplitude_readout,max_amplitude_readout,max_amplitude_readout,max_amplitude_readout,max_amplitude_readout]"
   ]
  },
  {
   "cell_type": "code",
   "execution_count": null,
   "metadata": {},
   "outputs": [],
   "source": [
    "envelope_duration = 1.0e-6\n",
    "envelope_rise_fall_time = 0.05e-6\n",
    "envelope_frequencies = [qubit_params[\"qubit_readout_frequencies\"][0] + 100e6]\n",
    "probe_pulse = generate_flat_top_gaussian(\n",
    "    envelope_frequencies,\n",
    "    envelope_duration,\n",
    "    envelope_rise_fall_time,\n",
    "    SHFQA_SAMPLING_FREQUENCY,\n",
    "    scaling=0.95,\n",
    ")\n",
    "\n",
    "num_avg = 2 * 0\n",
    "scope_trace = take_propagation_delay_measurement(\n",
    "    session, device, qubit_params, num_avg, probe_pulse, envelope_duration\n",
    ")\n",
    "\n",
    "determine_propagation_delay(scope_trace, probe_pulse, qubit_params)"
   ]
  },
  {
   "cell_type": "code",
   "execution_count": null,
   "metadata": {},
   "outputs": [],
   "source": [
    "fig3 = plt.figure(figsize=figsize)\n",
    "plot_resonator_pulse_scope_trace(scope_trace)"
   ]
  },
  {
   "cell_type": "markdown",
   "metadata": {},
   "source": [
    "# Qubit Spectroscopy"
   ]
  },
  {
   "cell_type": "code",
   "execution_count": null,
   "metadata": {},
   "outputs": [],
   "source": [
    "qubit_params['propagation_delay']=226e-9\n",
    "\n",
    "# define parameters\n",
    "num_sweep_steps_qubit_spectroscopy = 1000\n",
    "integration_time_qubit_spectroscopy = 20e-3\n",
    "\n",
    "# preparation\n",
    "min_max_frequencies=[[150,350e6],[150e6,350e6],[-50e6,00e6],[200e6,400e6],[25e6,100e6]]\n",
    "qubit_params['max_drive_strength']=[1,1,0.5,0.5,0.5]"
   ]
  },
  {
   "cell_type": "markdown",
   "metadata": {},
   "source": [
    "## setup SHFQC for qubit spectroscopy"
   ]
  },
  {
   "cell_type": "code",
   "execution_count": null,
   "metadata": {},
   "outputs": [],
   "source": [
    "# generate readout pulses and weights\n",
    "readout_pulse_duration_qubit_spectroscopy = 2e-6\n",
    "\n",
    "readout_pulses = generate_flat_top_gaussian(\n",
    "    frequencies=qubit_params[\"qubit_readout_frequencies\"],\n",
    "    pulse_duration=readout_pulse_duration_qubit_spectroscopy,\n",
    "    rise_fall_time=5e-9,\n",
    "    sampling_rate=SHFQA_SAMPLING_FREQUENCY,\n",
    "    scaling=0.95,\n",
    ")\n",
    "\n",
    "weights = generate_integration_weights(readout_pulses)\n",
    "\n",
    "# configure readout channel\n",
    "device.qachannels[0].configure_channel(\n",
    "    center_frequency=qachannel_center_frequency,\n",
    "    input_range=qachannel_power_in,\n",
    "    output_range=qachannel_power_out,\n",
    "    mode=SHFQAChannelMode.READOUT,\n",
    ")\n",
    "upload_readout_waveforms(\n",
    "    device, readout_pulses, weights, qubit_params, number_of_qubits\n",
    ")\n",
    "\n",
    "# configure readout channel\n",
    "prepare_sequencer_and_resultLogger(\n",
    "    device,\n",
    "    integration_time_qubit_spectroscopy,\n",
    "    readout_pulse_duration_qubit_spectroscopy,\n",
    "    num_sweep_steps_qubit_spectroscopy,\n",
    "    number_of_qubits,\n",
    ")\n",
    "\n",
    "# configure control channels\n",
    "configure_control_sequences(\n",
    "    device,\n",
    "    number_of_qubits,\n",
    "    min_max_frequencies,\n",
    "    num_sweep_steps_qubit_spectroscopy,\n",
    "    qubit_params,\n",
    "    sgchannel_number,\n",
    ")\n"
   ]
  },
  {
   "cell_type": "markdown",
   "metadata": {},
   "source": [
    "## Measurements"
   ]
  },
  {
   "cell_type": "code",
   "execution_count": null,
   "metadata": {},
   "outputs": [],
   "source": [
    "readout_results = run_experiment(\n",
    "    device, sgchannel_number, number_of_qubits, reenable=False\n",
    ")"
   ]
  },
  {
   "cell_type": "code",
   "execution_count": null,
   "metadata": {},
   "outputs": [],
   "source": [
    "x_axis=[]\n",
    "for qubit in range(number_of_qubits):\n",
    "    x_axis.append(np.linspace(min_max_frequencies[qubit][0],min_max_frequencies[qubit][1],num_sweep_steps_qubit_spectroscopy)/10**6)\n",
    "    \n",
    "plot_multiQubit_results_AmpPhase(x_axis,readout_results,number_of_qubits,figsize,font_large,font_medium,saveloc='PSIMeasurements/qubitspec')\n",
    "\n",
    "\n",
    "with open('PSIMeasurements/qubitspec.pkl', 'wb') as f:\n",
    "    pickle.dump(readout_results, f)"
   ]
  },
  {
   "cell_type": "markdown",
   "metadata": {},
   "source": [
    "# Pulsed Rabi Measurement - Determine Readout Angle and Pi-Pulse"
   ]
  },
  {
   "cell_type": "code",
   "execution_count": null,
   "metadata": {},
   "outputs": [],
   "source": [
    "qubit_params['qubit_drive_frequency']=[299.260e6,275.990e6,-25e6,320e6,82e6]\n",
    "\n",
    "# define parameters\n",
    "num_steps_rabi_experiment = 100\n",
    "num_averages_rabi_experiment = 2 ** 12\n",
    "qubit_params[\"qubit_T1_time\"] = [50e-6, 50e-6, 50e-6, 50e-6, 50e-6]\n",
    "qubit_params[\"qubit_single_gate_time\"] = [10e-9, 10e-9, 10e-9, 10e-9, 10e-9]\n",
    "qubit_params[\"max_drive_strength\"] = [1, 1, 1, 1, 1]\n",
    "\n",
    "wait_factor_in_T1 = 5\n"
   ]
  },
  {
   "cell_type": "code",
   "execution_count": null,
   "metadata": {},
   "outputs": [],
   "source": [
    "sgchannel_power_out = [10, 10, 10, 10, 10]\n",
    "\n",
    "with device.set_transaction():\n",
    "    for qubit in range(number_of_qubits):\n",
    "        device.sgchannels[sgchannel_number[qubit]].output.range(\n",
    "            sgchannel_power_out[qubit]\n",
    "        )"
   ]
  },
  {
   "cell_type": "code",
   "execution_count": null,
   "metadata": {},
   "outputs": [],
   "source": [
    "# generate and upload waveforms\n",
    "readout_pulses_unscaled = generate_flat_top_gaussian(\n",
    "    frequencies=qubit_params[\"qubit_readout_frequencies\"],\n",
    "    pulse_duration=qubit_params[\"readout_pulse_duration\"],\n",
    "    rise_fall_time=5e-9,\n",
    "    sampling_rate=SHFQA_SAMPLING_FREQUENCY,\n",
    "    scaling=0.99,\n",
    ")\n",
    "\n",
    "# configure result logger and weighted integration\n",
    "weights = generate_integration_weights(readout_pulses_unscaled)\n",
    "\n",
    "upload_readout_waveforms(\n",
    "    device, readout_pulses_unscaled, weights, qubit_params, number_of_qubits\n",
    ")\n",
    "\n",
    "# rotate weights according to readout parameter settings\n",
    "# weights = { i : np.multiply(weights[i], np.exp(1j * qubit_params['qubit_readout_rotation'][i])) for i in range(number_of_qubits)}\n",
    "\n",
    "device.qachannels[0].readout.write_integration_weights(\n",
    "    weights,\n",
    "    # compensation for the delay between generator output and input of the integration unit\n",
    "    integration_delay=qubit_params[\"propagation_delay\"],\n",
    ")\n",
    "\n",
    "[\n",
    "    single_qubit_pulse_time_samples,\n",
    "    readout_pulse_duration_samples,\n",
    "    pulse_startQA_string,\n",
    "    weight_startQA_string,\n",
    "] = prepare_sequencer_resultLogger_pulsedRabi(\n",
    "    device,\n",
    "    number_of_qubits,\n",
    "    qubit_params,\n",
    "    wait_factor_in_T1,\n",
    "    num_averages_rabi_experiment,\n",
    "    num_steps_rabi_experiment,\n",
    "    singleShot=True,\n",
    ")\n",
    "\n",
    "configure_control_sequences_pulsedRabi(\n",
    "    device,\n",
    "    number_of_qubits,\n",
    "    single_qubit_pulse_time_samples,\n",
    "    qubit_params,\n",
    "    num_averages_rabi_experiment,\n",
    "    num_steps_rabi_experiment,\n",
    "    sgchannel_number,\n",
    ")"
   ]
  },
  {
   "cell_type": "code",
   "execution_count": null,
   "metadata": {},
   "outputs": [],
   "source": [
    "device.qachannels[0].readout.configure_result_logger(\n",
    "    result_source=\"integration\",\n",
    "    result_length=num_steps_rabi_experiment,\n",
    "    num_averages=num_averages_rabi_experiment,\n",
    "    averaging_mode=AveragingMode.CYCLIC,\n",
    ")\n",
    "\n",
    "readout_results = run_experiment(\n",
    "    device, sgchannel_number, number_of_qubits, reenable=True\n",
    ")"
   ]
  },
  {
   "cell_type": "code",
   "execution_count": null,
   "metadata": {},
   "outputs": [],
   "source": [
    "x_axis = []\n",
    "for qubit in range(number_of_qubits):\n",
    "    x_axis = np.linspace(\n",
    "        0, qubit_params[\"max_drive_strength\"][qubit], num_steps_rabi_experiment\n",
    "    )\n",
    "\n",
    "plot_multiQubit_results_IQ(\n",
    "    x_axis,\n",
    "    readout_results,\n",
    "    number_of_qubits,\n",
    "    figsize,\n",
    "    font_large,\n",
    "    font_medium,\n",
    "    saveloc=\"PSIMeasurements/Rabi1\",\n",
    ")\n",
    "\n",
    "\n",
    "with open(\"PSIMeasurements/Rabi1.pkl\", \"wb\") as f:\n",
    "    pickle.dump(readout_results, f)"
   ]
  },
  {
   "cell_type": "code",
   "execution_count": null,
   "metadata": {},
   "outputs": [],
   "source": [
    "qubit_params[\"qubit_readout_rotation\"] = [\n",
    "    -0.95 * np.pi,\n",
    "    0.85 * np.pi,\n",
    "    0.85 * np.pi,\n",
    "    0.85 * np.pi,\n",
    "    0.85 * np.pi,\n",
    "]\n",
    "\n",
    "# rotate weights according to readout parameter settings\n",
    "weightsrot = {\n",
    "    i: np.multiply(weights[i], np.exp(1j * qubit_params[\"qubit_readout_rotation\"][i]))\n",
    "    for i in range(number_of_qubits)\n",
    "}\n",
    "\n",
    "device.qachannels[0].readout.write_integration_weights(\n",
    "    weightsrot,\n",
    "    # compensation for the delay between generator output and input of the integration unit\n",
    "    integration_delay=qubit_params[\"propagation_delay\"],\n",
    ")\n",
    "\n",
    "\n",
    "device.qachannels[0].readout.configure_result_logger(\n",
    "    result_source=\"integration\",\n",
    "    result_length=num_steps_rabi_experiment,\n",
    "    num_averages=num_averages_rabi_experiment,\n",
    "    averaging_mode=AveragingMode.CYCLIC,\n",
    ")\n",
    "\n",
    "readout_results = run_experiment(\n",
    "    device, sgchannel_number, number_of_qubits, reenable=True\n",
    ")\n",
    "\n",
    "# plot results\n",
    "x_axis = []\n",
    "for qubit in range(number_of_qubits):\n",
    "    x_axis = np.linspace(\n",
    "        0, qubit_params[\"max_drive_strength\"][qubit], num_steps_rabi_experiment\n",
    "    )\n",
    "\n",
    "plot_multiQubit_results_IQ(\n",
    "    x_axis,\n",
    "    readout_results,\n",
    "    number_of_qubits,\n",
    "    figsize,\n",
    "    font_large,\n",
    "    font_medium,\n",
    "    saveloc=\"PSIMeasurements/Rabi2\",\n",
    ")\n",
    "\n",
    "\n",
    "with open(\"PSIMeasurements/Rabi2.pkl\", \"wb\") as f:\n",
    "    pickle.dump(readout_results, f)\n"
   ]
  },
  {
   "cell_type": "markdown",
   "metadata": {},
   "source": [
    "### fit data"
   ]
  },
  {
   "cell_type": "code",
   "execution_count": null,
   "metadata": {},
   "outputs": [],
   "source": [
    "for qubit in range(number_of_qubits):\n",
    "    amp_axis=np.linspace(0,qubit_params['max_drive_strength'][qubit],num_steps_rabi_experiment)\n",
    "    y_data = np.abs(readout_results[qubit]-readout_results[qubit][0])\n",
    "    if 0:\n",
    "        y_data = amplitude_rabi(amp_axis, 45 , 5)\n",
    "        noise = 1*np.random.normal(size=y_data.size)\n",
    "        y_data += noise\n",
    "    pars, stdevs=fit_data(amp_axis,y_data,amplitude_rabi,[30 , 10],1,figsize=figsize,font=font_medium,qubit=qubit,x_label='rel. qubit drive amplitude',y_label='amplitude [A.U.]',saveloc=f'PSIMeasurements/RabiFit{qubit}')\n",
    "    print(pars)\n",
    "    qubit_params['qubit_pi_amplitude'][qubit]= 2*np.pi/pars[0]\n",
    "    qubit_params['qubit_pi/2_amplitude'][qubit]= np.pi/pars[0]\n",
    "    \n",
    "    print('qubit',qubit,': pi-amp. =',qubit_params['qubit_pi_amplitude'][qubit] ,'\\n' \n",
    "          '          pi/2-amp. =', qubit_params['qubit_pi/2_amplitude'][qubit])"
   ]
  },
  {
   "cell_type": "markdown",
   "metadata": {},
   "source": [
    "# Pulsed Ramsey Measurement - Determine qubit-frequency"
   ]
  },
  {
   "cell_type": "code",
   "execution_count": null,
   "metadata": {},
   "outputs": [],
   "source": [
    "# define parameters\n",
    "num_steps_ramsey_experiment = 100\n",
    "num_averages_ramsey_experiment = 2**12\n",
    "max_wait_time_target=10e-6\n",
    "wait_factor_in_T1=5\n",
    "ramsey_offset_frequency=0e6\n",
    "\n",
    "\n",
    "wait_time_steps_samples=int(round(max_wait_time_target/(num_steps_ramsey_experiment-1)*SHFQA_SAMPLING_FREQUENCY/16)*16)\n",
    "max_wait_time=(wait_time_steps_samples)*(num_steps_ramsey_experiment-1)*0.5e-9\n",
    "print('max. wait time: ', round(max_wait_time *10**9*2)/2,' ns in steps of', round(wait_time_steps_samples*0.5*2)/2, 'ns')"
   ]
  },
  {
   "cell_type": "code",
   "execution_count": null,
   "metadata": {},
   "outputs": [],
   "source": [
    "with device.set_transaction():\n",
    "    for qubit in range(number_of_qubits):\n",
    "        device.sgchannels[0].oscs[0].freq(qubit_params['qubit_drive_frequency'][qubit]+0.5e6)"
   ]
  },
  {
   "cell_type": "markdown",
   "metadata": {},
   "source": [
    "## prepare SHFQC for Ramsey Measurements"
   ]
  },
  {
   "cell_type": "code",
   "execution_count": null,
   "metadata": {},
   "outputs": [],
   "source": [
    "device.qachannels[0].readout.configure_result_logger(result_source='integration',result_length=num_steps_ramsey_experiment, num_averages=num_averages_ramsey_experiment)\n",
    "device.qachannels[0].readout.run()\n",
    "\n",
    "time_to_next_experiment_seqSamples=int(np.max(qubit_params['qubit_T1_time'])*wait_factor_in_T1*SHFQA_SAMPLING_FREQUENCY/8)\n",
    "\n",
    "seqc_program_qa = f\"\"\"\n",
    "var time_ind = 0;\n",
    "waitDigTrigger(1); // wait for software trigger to start experiment\n",
    "repeat({num_averages_ramsey_experiment}) {{\n",
    "    for (time_ind = 0; time_ind < {num_steps_ramsey_experiment}; time_ind++) {{\n",
    "        // Trigger control channels to play pulse\n",
    "        setTrigger(1);         \n",
    "        wait(1);\n",
    "        setTrigger(0);\n",
    "        \n",
    "        playZero({wait_time_steps_samples}*time_ind+2*{single_qubit_pulse_time_samples});\n",
    "        \n",
    "        //start readout\n",
    "        playZero({readout_pulse_duration_samples});\n",
    "        startQA({pulse_startQA_string}, {weight_startQA_string}, true, 0, 0x0);\n",
    "        \n",
    "        //wait for qubit decay\n",
    "        wait({time_to_next_experiment_seqSamples});\n",
    "    }}\n",
    "}}\n",
    "\"\"\"\n",
    "\n",
    "device.qachannels[0].generator.load_sequencer_program(seqc_program_qa)\n",
    "device.qachannels[0].generator.enable_sequencer(single=True)\n",
    "\n",
    "configure_control_sequences_pulsedRamsey(\n",
    "    device,\n",
    "    number_of_qubits,\n",
    "    single_qubit_pulse_time_samples,\n",
    "    qubit_params,\n",
    "    num_averages_ramsey_experiment,\n",
    "    num_steps_ramsey_experiment,\n",
    "    wait_time_steps_samples,\n",
    "    sgchannel_number,\n",
    ")"
   ]
  },
  {
   "cell_type": "code",
   "execution_count": null,
   "metadata": {},
   "outputs": [],
   "source": [
    "readout_results = run_experiment(\n",
    "    device, sgchannel_number, number_of_qubits, reenable=False\n",
    ")"
   ]
  },
  {
   "cell_type": "code",
   "execution_count": null,
   "metadata": {},
   "outputs": [],
   "source": [
    "x_axis=[]\n",
    "for qubit in range(number_of_qubits):\n",
    "    x_axis=np.linspace(single_qubit_pulse_time_samples/SHFQA_SAMPLING_FREQUENCY,max_wait_time+single_qubit_pulse_time_samples/SHFQA_SAMPLING_FREQUENCY,num_steps_ramsey_experiment)*10**6\n",
    "\n",
    "plot_multiQubit_results_IQ(x_axis,readout_results,number_of_qubits,figsize,font_large,font_medium,label='time between pulse centers [us]',saveloc='PSIMeasurements/Ramsey1')\n",
    "\n",
    "\n",
    "with open('PSIMeasurements/Ramsey1.pkl', 'wb') as f:\n",
    "    pickle.dump(readout_results, f)"
   ]
  },
  {
   "cell_type": "markdown",
   "metadata": {},
   "source": [
    "### fit data"
   ]
  },
  {
   "cell_type": "code",
   "execution_count": null,
   "metadata": {},
   "outputs": [],
   "source": [
    "update_qubit_parameters=0\n",
    "startparam=[[0.5, 0.003,20,0*np.pi/2],[0.5, 0.00045,10,0*np.pi/2]]\n",
    "offset=[0.0017,-0.002]\n",
    "for qubit in range(number_of_qubits):\n",
    "    time_axis=np.linspace(single_qubit_pulse_time_samples/SHFQA_SAMPLING_FREQUENCY,max_wait_time+single_qubit_pulse_time_samples/SHFQA_SAMPLING_FREQUENCY,num_steps_ramsey_experiment)*10**6\n",
    "    y_data = np.imag(readout_results[qubit])+offset[qubit]\n",
    "                     \n",
    "    pars, stdevs=fit_data(time_axis,y_data,ramsey_time_exp,startparam[qubit],1,figsize=figsize,font=font_medium,qubit=qubit,x_label='time between pulse centers [us]',y_label='amplitude [A.U.]',saveloc=f'PSIMeasurements/Ramsey1fit{qubit}')    \n",
    "    print(pars)\n",
    "    if update_qubit_parameters: \n",
    "        qubit_params['qubit_drive_frequency'][qubit]+=pars[0]*10**6\n",
    "        qubit_params['qubit_T2_time'][qubit]=pars[2]*10**-6\n",
    "    print('qubit',qubit,': frequency =', qubit_params['qubit_drive_frequency'][qubit]+pars[0]*10**6, '\\n', \n",
    "          '         T2 - time =', qubit_params['qubit_T2_time'][qubit])"
   ]
  },
  {
   "cell_type": "markdown",
   "metadata": {},
   "source": [
    "# Qubit T1 Measurement"
   ]
  },
  {
   "cell_type": "code",
   "execution_count": null,
   "metadata": {},
   "outputs": [],
   "source": [
    "# define parameters\n",
    "num_steps_T1_experiment = 100\n",
    "num_averages_T1_experiment = 2**12\n",
    "max_wait_time_target=50e-6\n",
    "wait_factor_in_T1=5\n",
    "\n",
    "wait_time_steps_samples=int(round(max_wait_time_target/(num_steps_T1_experiment-1)*SHFQA_SAMPLING_FREQUENCY/16)*16)\n",
    "max_wait_time=(wait_time_steps_samples)*(num_steps_T1_experiment-1)*0.5e-9\n",
    "print('max. wait time: ', round(max_wait_time *10**9*2)/2,' ns in steps of', round(wait_time_steps_samples*0.5*2)/2, 'ns')"
   ]
  },
  {
   "cell_type": "code",
   "execution_count": null,
   "metadata": {},
   "outputs": [],
   "source": [
    "device.qachannels[0].readout.configure_result_logger(result_source='integration',result_length=num_steps_T1_experiment, num_averages=num_averages_T1_experiment)\n",
    "device.qachannels[0].readout.run()\n",
    "\n",
    "time_to_next_experiment_seqSamples=int(np.max(qubit_params['qubit_T1_time'])*wait_factor_in_T1*SHFQA_SAMPLING_FREQUENCY/8)\n",
    "\n",
    "seqc_program_qa = f\"\"\"\n",
    "var time_ind = 0;\n",
    "waitDigTrigger(1); // wait for software trigger to start experiment\n",
    "repeat({num_averages_T1_experiment}) {{\n",
    "    for (time_ind = 0; time_ind < {num_steps_T1_experiment}; time_ind++) {{\n",
    "        // Trigger control channels to play pulse\n",
    "        setTrigger(1);         \n",
    "        wait(1);\n",
    "        setTrigger(0);\n",
    "        \n",
    "        // wait until control sequence finished\n",
    "        playZero({wait_time_steps_samples}*time_ind+{single_qubit_pulse_time_samples});\n",
    "        \n",
    "        //start readout\n",
    "        playZero({readout_pulse_duration_samples});\n",
    "        startQA({pulse_startQA_string}, {weight_startQA_string}, true, 0, 0x0);\n",
    "        \n",
    "        //wait for qubit decay\n",
    "        wait({time_to_next_experiment_seqSamples});\n",
    "    }}\n",
    "}}\n",
    "\n",
    "\"\"\"\n",
    "\n",
    "device.qachannels[0].generator.load_sequencer_program(seqc_program_qa)\n",
    "device.qachannels[0].generator.enable_sequencer(single=True)\n",
    "\n",
    "configure_control_sequences_pulsedRamsey(\n",
    "    device,\n",
    "    number_of_qubits,\n",
    "    single_qubit_pulse_time_samples,\n",
    "    qubit_params,\n",
    "    num_averages_T1_experiment,\n",
    "    num_steps_T1_experiment,\n",
    "    wait_time_steps_samples,\n",
    "    sgchannel_number,\n",
    ")"
   ]
  },
  {
   "cell_type": "code",
   "execution_count": null,
   "metadata": {},
   "outputs": [],
   "source": [
    "readout_results = run_experiment(\n",
    "    device, sgchannel_number, number_of_qubits, reenable=False\n",
    ")"
   ]
  },
  {
   "cell_type": "code",
   "execution_count": null,
   "metadata": {},
   "outputs": [],
   "source": [
    "x_axis=[]\n",
    "for qubit in range(number_of_qubits):\n",
    "    x_axis=np.linspace(single_qubit_pulse_time_samples/2/SHFQA_SAMPLING_FREQUENCY,max_wait_time+single_qubit_pulse_time_samples/2/SHFQA_SAMPLING_FREQUENCY,num_steps_T1_experiment)*10**6\n",
    "\n",
    "plot_multiQubit_results_IQ(x_axis,readout_results,number_of_qubits,figsize,font_large,font_medium,label='time to readout pulse [us]',saveloc='PSIMeasurements/Decay1')\n",
    "\n",
    "\n",
    "with open('PSIMeasurements/Decay1.pkl', 'wb') as f:\n",
    "    pickle.dump(readout_results, f)"
   ]
  },
  {
   "cell_type": "markdown",
   "metadata": {},
   "source": [
    "### fit data"
   ]
  },
  {
   "cell_type": "code",
   "execution_count": null,
   "metadata": {},
   "outputs": [],
   "source": [
    "update_qubit_parameters=0\n",
    "\n",
    "for qubit in range(number_of_qubits):\n",
    "    time_axis=np.linspace(single_qubit_pulse_time_samples/2/SHFQA_SAMPLING_FREQUENCY,max_wait_time+single_qubit_pulse_time_samples/2/SHFQA_SAMPLING_FREQUENCY,num_steps_T1_experiment)*10**6\n",
    "    y_data = np.abs(readout_results[qubit]-readout_results[qubit][-1])\n",
    "    if 0:\n",
    "        y_data = T1_time_exp(time_axis, 5, 24.5) # in us\n",
    "        noise = 0.1*np.random.normal(size=y_data.size)\n",
    "        y_data += noise\n",
    "    pars, stdevs=fit_data(time_axis,y_data,T1_time_exp,[6,8],1,figsize=figsize,font=font_medium,qubit=qubit,x_label='time to readout [us]',y_label='amplitude [A.U.]',saveloc=f'PSIMeasurements/Decay1fit{qubit}')\n",
    "    print(pars)\n",
    "    if update_qubit_parameters: \n",
    "        qubit_params['qubit_T1_time'][qubit]=pars[1]*10**-6\n",
    "    print('qubit',qubit,': T1 - time =', qubit_params['qubit_T1_time'][qubit] * 10**6, 'us')"
   ]
  },
  {
   "cell_type": "markdown",
   "metadata": {},
   "source": [
    "# Randomized Benchmarking"
   ]
  },
  {
   "cell_type": "code",
   "execution_count": null,
   "metadata": {},
   "outputs": [],
   "source": [
    "# n different sequence lengths\n",
    "n_cliffords = 1\n",
    "# k different random sequences per length\n",
    "k_seeds = 1\n",
    "# how many averages / repetitions of each sequence\n",
    "num_Averages = 2**5\n",
    "wait_factor_in_T1 = 1"
   ]
  },
  {
   "cell_type": "code",
   "execution_count": null,
   "metadata": {},
   "outputs": [],
   "source": [
    "qubit = 0\n",
    "\n",
    "pi_amplitude = qubit_params[\"qubit_pi_amplitude\"][qubit]\n",
    "pi_length = qubit_params[\"qubit_single_gate_time\"][qubit]\n",
    "pi2_amplitude = qubit_params[\"qubit_pi/2_amplitude\"][qubit]\n",
    "pi2_length = pi_length\n",
    "qscale = -qubit_params[\"qubit_qscale\"][qubit]*5"
   ]
  },
  {
   "cell_type": "code",
   "execution_count": null,
   "metadata": {},
   "outputs": [],
   "source": [
    "pulse = pulse_envelope(1, 50e-9, 0, qscale=-10)\n",
    "plt.plot(np.real(pulse))\n",
    "plt.plot(np.imag(pulse))\n",
    "plt.plot(np.square(np.abs(np.real(pulse)+np.imag(pulse))))\n",
    "plt.plot(0*np.real(pulse))"
   ]
  },
  {
   "cell_type": "markdown",
   "metadata": {},
   "source": [
    "#### build the clifford gates out of the elementary single qubit gates"
   ]
  },
  {
   "cell_type": "code",
   "execution_count": null,
   "metadata": {},
   "outputs": [],
   "source": [
    "# all elements of the Clifford group, according to defintion in arXiv:1410.2338\n",
    "clifford_params = [\n",
    "    ['I'],\n",
    "    ['Y/2', 'X/2'],\n",
    "    ['-X/2', '-Y/2'],\n",
    "    ['X'],\n",
    "    ['-Y/2', '-X/2'],\n",
    "    ['X/2', '-Y/2'],\n",
    "    ['Y'],\n",
    "    ['-Y/2', 'X/2'],\n",
    "    ['X/2', 'Y/2'],\n",
    "    ['X', 'Y'],\n",
    "    ['Y/2', '-X/2'],\n",
    "    ['-X/2', 'Y/2'],\n",
    "    ['Y/2', 'X'],\n",
    "    ['-X/2'],\n",
    "    ['X/2', '-Y/2', '-X/2'],\n",
    "    ['-Y/2'],\n",
    "    ['X/2'],\n",
    "    ['X/2', 'Y/2', 'X/2'],\n",
    "    ['-Y/2', 'X'],\n",
    "    ['X/2', 'Y'],\n",
    "    ['X/2', '-Y/2', 'X/2'],\n",
    "    ['Y/2'],\n",
    "    ['-X/2', 'Y'],\n",
    "    ['X/2', 'Y/2', '-X/2']\n",
    "]\n",
    "\n",
    "clifford_len = len(clifford_params)\n",
    "\n",
    "# parameters of basic single qubit pulses\n",
    "pulses_params = {\n",
    "    'I': {'amplitude':0.0, 'length': pi_length, 'phase': 0.0, 'qscale': qscale},\n",
    "    'X': {'amplitude':pi_amplitude, 'length': pi_length, 'phase': 0.0, 'qscale': qscale},\n",
    "    'Y': {'amplitude':pi_amplitude, 'length': pi_length, 'phase': 90.0, 'qscale': qscale},\n",
    "    'X/2': {'amplitude':pi2_amplitude, 'length': pi2_length, 'phase': 0.0, 'qscale': qscale},\n",
    "    'Y/2': {'amplitude':pi2_amplitude, 'length': pi2_length, 'phase': 90.0, 'qscale': qscale},\n",
    "    '-X/2': {'amplitude':pi2_amplitude, 'length': pi2_length, 'phase': 0.0-180.0, 'qscale': qscale},\n",
    "    '-Y/2': {'amplitude':pi2_amplitude, 'length': pi2_length, 'phase': 90.0-180.0, 'qscale': qscale},\n",
    "}\n",
    "\n",
    "# calculate complex waveforms for single qubit elementary pulses\n",
    "pulses_waves = {pulse_type: pulse_envelope(**pulse_param) for (pulse_type, pulse_param) in pulses_params.items()}\n",
    "# calculate complex waveforms for each of the Clifford gates\n",
    "clifford_waves = [np.concatenate([pulses_waves[i] for i in clifford_gate]) for clifford_gate in clifford_params]"
   ]
  },
  {
   "cell_type": "markdown",
   "metadata": {},
   "source": [
    "#### basic definitions to manipulate Clifford gates - needed for recovery gate calculation"
   ]
  },
  {
   "cell_type": "code",
   "execution_count": null,
   "metadata": {},
   "outputs": [],
   "source": [
    "def pauli(ind = 'x'):\n",
    "    \"\"\"pauli matrices\n",
    "    \"\"\"\n",
    "    if ind =='x':\n",
    "        res = np.array([[0,1], [1,0]])\n",
    "    if ind =='y':\n",
    "        res = np.array([[0,-1j], [1j,0]])\n",
    "    if ind =='z':\n",
    "        res = np.array([[1,0], [0,-1]])\n",
    "        \n",
    "    return res\n",
    "\n",
    "def rot_matrix(angle=np.pi, axis='x'):\n",
    "    \"\"\"general definition of rotation unitary for a single qubit\n",
    "    \"\"\"\n",
    "    return expm(-1j * angle / 2 * pauli(axis))\n",
    "\n",
    "def mult_gates(gates, use_linalg=False, tol=20):\n",
    "    \"\"\"multiply a variable number of gates / matrices - recursive definition faster for simple 2x2 matrices\n",
    "    \"\"\"\n",
    "    if len(gates) > 1:\n",
    "        if use_linalg:\n",
    "            res = np.linalg.multi_dot(gates)\n",
    "        else:\n",
    "            res = np.matmul(gates[0], mult_gates(gates[1:], use_linalg=False, tol=tol))\n",
    "    elif len(gates) == 1:\n",
    "        res = gates[0]\n",
    "    \n",
    "    return res.round(tol)\n",
    "\n",
    "# generate matrix representation of all Clifford gates from elementary gates\n",
    "elem_gates = {'I': np.array([[1,0],[0,1]]),\n",
    "              'X': rot_matrix(np.pi, 'x'),\n",
    "              'Y': rot_matrix(np.pi, 'y'),\n",
    "              'X/2': rot_matrix(np.pi / 2, 'x'),\n",
    "              'Y/2': rot_matrix(np.pi / 2, 'y'),\n",
    "              '-X/2': rot_matrix(-np.pi / 2, 'x'),\n",
    "              '-Y/2': rot_matrix(-np.pi / 2, 'y')}\n",
    "\n",
    "clifford_matrices = [[elem_gates[gate] for gate in gates] for gates in clifford_params]\n",
    "clifford_gates = [mult_gates(matrices) for matrices in clifford_matrices]\n",
    "\n",
    "def glob_phase(phase, dim=2):\n",
    "    \"\"\"global phase operator for dimensionality dim\n",
    "    \"\"\"\n",
    "    return np.exp(1j * phase) * np.identity(dim)\n",
    "\n",
    "def match_up_to_phase(target, gates, dim=2, verbose=False):\n",
    "    \"\"\"finds the element of the list gates that best matches the target gate up to a global phase of integer multiples of pi\n",
    "    \"\"\"\n",
    "    # set of global phase operators for integer multiples of pi\n",
    "    glob_phases = [glob_phase(0, dim), glob_phase(np.pi, dim)]\n",
    "    # gates up to global phases\n",
    "    gates_2 = [[mult_gates([gate1, gate2]) for gate2 in glob_phases] for gate1 in gates]\n",
    "    # index of gate that is closest to target up to global phase (using frobenius norm)\n",
    "    match_index = np.argmin([np.amin([np.linalg.norm(target - gate) for gate in gates]) for gates in gates_2])\n",
    "    \n",
    "    return match_index"
   ]
  },
  {
   "cell_type": "markdown",
   "metadata": {},
   "source": [
    "#### function to calculate the last gate in the sequence - recovery gate which leads back to initial state (up to global phase)"
   ]
  },
  {
   "cell_type": "code",
   "execution_count": null,
   "metadata": {},
   "outputs": [],
   "source": [
    "def calculate_inverse_clifford(clifford_list, gates=clifford_gates):\n",
    "    \"\"\"Calculates the final recovery clifford gate\n",
    "\n",
    "    Parameters:\n",
    "    clifford_list: list\n",
    "        a list containing the indices of the clifford sequence to be inverted\n",
    "    gate: list\n",
    "        a list containing the gates to compare the recovery gate to\n",
    "    \"\"\"\n",
    "    # matrix representation of Clifford sequence\n",
    "    seq_gate = mult_gates([gates[gate] for gate in clifford_list])\n",
    "    # recovery gate - inverse of full sequence\n",
    "    rec_gate = np.linalg.inv(seq_gate)\n",
    "    # index of recovery gate (up to global phase)\n",
    "    recovery = int(match_up_to_phase(rec_gate, clifford_gates))\n",
    "    \n",
    "    return recovery"
   ]
  },
  {
   "cell_type": "markdown",
   "metadata": {},
   "source": [
    "#### A computational representation of the PRNG on the HDAWG"
   ]
  },
  {
   "cell_type": "code",
   "execution_count": null,
   "metadata": {},
   "outputs": [],
   "source": [
    "class HDAWG_PRNG:\n",
    "    def __init__(self, seed=0xcafe, lower=0, upper=2**16-1):\n",
    "        self.lsfr = seed\n",
    "        self.lower = lower\n",
    "        self.upper = upper\n",
    "\n",
    "    def next(self):\n",
    "        lsb = self.lsfr & 1\n",
    "        self.lsfr = self.lsfr >> 1\n",
    "        if (lsb):\n",
    "            self.lsfr = 0xb400 ^ self.lsfr\n",
    "        rand = ((self.lsfr * (self.upper-self.lower+1) >> 16) + self.lower) & 0xffff\n",
    "        return rand"
   ]
  },
  {
   "cell_type": "markdown",
   "metadata": {},
   "source": [
    "## Prepare the SHFQC for RB sequence"
   ]
  },
  {
   "cell_type": "code",
   "execution_count": null,
   "metadata": {},
   "outputs": [],
   "source": [
    "# configured in single shot mode\n",
    "singleshot = False\n",
    "if singleshot:\n",
    "    exp = num_Averages\n",
    "    avg = 1\n",
    "else:\n",
    "    exp = 1\n",
    "    avg = num_Averages\n",
    "\n",
    "device.qachannels[0].readout.configure_result_logger(result_source='integration',result_length=exp*k_seeds, num_averages=avg)\n",
    "device.qachannels[0].readout.run()\n",
    "\n",
    "time_to_next_experiment_seqSamples=int(np.max(qubit_params['qubit_T1_time'])*wait_factor_in_T1*SHFQA_SAMPLING_FREQUENCY/8)\n",
    "\n",
    "seqc_program_qa = f\"\"\"\n",
    "waitDigTrigger(1);\n",
    "setTrigger(1);\n",
    "wait(10);\n",
    "setTrigger(0);\n",
    "\n",
    "repeat({exp*avg*k_seeds})\n",
    "{{\n",
    "\n",
    "    waitDigTrigger(2);\n",
    "\n",
    "    //start readout\n",
    "    \n",
    "    playZero({readout_pulse_duration_samples});\n",
    "    startQA({pulse_startQA_string}, {weight_startQA_string}, true, 0, 0x0);\n",
    "    \n",
    "}}\n",
    "\n",
    "\"\"\"\n",
    "device.qachannels[0].generator.load_sequencer_program(seqc_program_qa)\n",
    "device.qachannels[0].generator.enable_sequencer(single=True)\n",
    "\n",
    "configure_control_sequences_pulsedRB(\n",
    "    device,\n",
    "    number_of_qubits,\n",
    "    clifford_waves,\n",
    "    clifford_len,\n",
    "    qubit_params,\n",
    "    num_Averages,\n",
    "    sgchannel_number,\n",
    ")"
   ]
  },
  {
   "cell_type": "code",
   "execution_count": null,
   "metadata": {},
   "outputs": [],
   "source": [
    "AWG_REGISTER_M1 = 0\n",
    "AWG_REGISTER_SEED = 1\n",
    "AWG_REGISTER_RECOVERY = 2"
   ]
  },
  {
   "cell_type": "code",
   "execution_count": null,
   "metadata": {},
   "outputs": [],
   "source": [
    "M = n_cliffords\n",
    "\n",
    "# generate random seed for the PRNG\n",
    "seed = random.randrange(1, 2 ** 16 - 1)\n",
    "# use seed and PRNG model to determine gate sequence that will be played on AWG\n",
    "prng = HDAWG_PRNG(seed=seed, lower=0, upper=clifford_len - 1)\n",
    "gates_M1 = [prng.next() for i in range(M)]\n",
    "# calculate the recovery clifford gate\n",
    "gate_M = calculate_inverse_clifford(gates_M1)\n",
    "\n",
    "registers = [\n",
    "    (AWG_REGISTER_M1, M),\n",
    "    (AWG_REGISTER_SEED, seed),\n",
    "    (AWG_REGISTER_RECOVERY, gate_M),\n",
    "]\n",
    "\n",
    "with device.set_transaction():\n",
    "    for register, value in registers:\n",
    "        device.sgchannels[sgchannel_number[qubit]].awg.userregs[register](value)\n",
    "\n",
    "readout_results = run_experiment(\n",
    "    device, sgchannel_number, number_of_qubits=1, reenable=True\n",
    ")\n"
   ]
  },
  {
   "cell_type": "code",
   "execution_count": null,
   "metadata": {},
   "outputs": [],
   "source": [
    "n_start = 2\n",
    "\n",
    "# set the AWG to a known state\n",
    "#awg.stop()\n",
    "\n",
    "start = time.perf_counter_ns()\n",
    "upload_time = []\n",
    "exec_time = []\n",
    "\n",
    "\n",
    "for len_exp in range(n_start, n_cliffords + n_start):\n",
    "    # length of sequence is 2**n\n",
    "    M = 2**len_exp\n",
    "\n",
    "    # iterate over different random sequences\n",
    "    for rand_i in range(k_seeds):\n",
    "\n",
    "        exec_start = time.perf_counter_ns()\n",
    "\n",
    "        # generate random seed for the PRNG\n",
    "        seed = random.randrange(1, 2**16-1)\n",
    "        # use seed and PRNG model to determine gate sequence that will be played on AWG\n",
    "        prng = HDAWG_PRNG(seed=seed,lower=0,upper=clifford_len-1)\n",
    "        gates_M1 = [prng.next() for i in range(M)]\n",
    "        # calculate the recovery clifford gate\n",
    "        gate_M = calculate_inverse_clifford(gates_M1)\n",
    "\n",
    "        up_start = time.perf_counter_ns()\n",
    "\n",
    "        # set AWG registers to transmit information on \n",
    "        # - sequence length\n",
    "        # - PRNG seed\n",
    "        # - last clifford gate in sequence\n",
    "        registers = [\n",
    "            (AWG_REGISTER_M1, M),\n",
    "            (AWG_REGISTER_SEED, seed),\n",
    "            (AWG_REGISTER_RECOVERY, gate_M)\n",
    "        ]\n",
    "\n",
    "        with device.set_transaction():\n",
    "            for register, value in registers:\n",
    "                device.sgchannels[sgchannel_number[qubit]].awg.userregs[register](value)\n",
    "\n",
    "        upload_time.append(time.perf_counter_ns() - up_start)\n",
    "\n",
    "        run_experiment(device, sgchannel_number, number_of_qubits=1, reenable=True)\n",
    "\n",
    "        exec_time.append(time.perf_counter_ns() - exec_start)\n",
    "\n",
    "upload_time = np.array(upload_time) * 1e-9\n",
    "exec_time = np.array(exec_time) * 1e-9\n",
    "\n",
    "tot_time = time.perf_counter_ns() - start\n",
    "print(f'Total time: {tot_time*1e-9:.3f}s')\n",
    "print(f'Per iteration time: {tot_time/(k*n)*1e-9:.3f}s')"
   ]
  }
 ],
 "metadata": {
  "interpreter": {
   "hash": "662c87d7e8bb0aa4e848abaa1baffedab42d1e1bcc9a468fd885c58a60167e7c"
  },
  "kernelspec": {
   "display_name": "Python 3.9.7 64-bit ('toolkit')",
   "language": "python",
   "name": "python3"
  },
  "language_info": {
   "codemirror_mode": {
    "name": "ipython",
    "version": 3
   },
   "file_extension": ".py",
   "mimetype": "text/x-python",
   "name": "python",
   "nbconvert_exporter": "python",
   "pygments_lexer": "ipython3",
   "version": "3.9.7"
  },
  "orig_nbformat": 4
 },
 "nbformat": 4,
 "nbformat_minor": 2
}
